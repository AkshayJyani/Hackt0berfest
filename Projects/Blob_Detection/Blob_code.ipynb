{
 "cells": [
  {
   "cell_type": "code",
   "execution_count": 6,
   "metadata": {},
   "outputs": [],
   "source": [
    "#to count the number of blobs and number of circular blobs\n",
    "import numpy as np\n",
    "import cv2\n",
    "image = cv2.imread(\"blob2.jpg\")\n",
    "cv2.imshow(\"Original Image\", image)\n",
    "cv2.waitKey(0)\n",
    "#INITIALIZE THE DETECTOR USING THE DEFAULT PARAMETERS\n",
    "detector = cv2.SimpleBlobDetector_create()\n",
    "#detect blobs\n",
    "keypoints = detector.detect(image)\n",
    "#drawing blobs as a circle on our images\n",
    "blnk = np.zeros((0,0))\n",
    "\n",
    "blobs = cv2.drawKeypoints(image, keypoints, blnk,(0,0,255),cv2.DRAW_MATCHES_FLAGS_DRAW_RICH_KEYPOINTS)\n",
    "no_of_blobs = len(keypoints)\n",
    "\n",
    "text = (\"Total no. of blobs: \" +str(len(keypoints)))\n",
    "cv2.putText(blobs,text,(50,300),cv2.FONT_HERSHEY_SIMPLEX,1,(255,0,0),3)\n",
    "#image with blobs keypoints\n",
    "cv2.imshow(\"BLobs using default parameters\",blobs)\n",
    "cv2.waitKey(0)\n",
    "\n",
    "prm = cv2.SimpleBlobDetector_Params()\n",
    "#setting area filtering parameter\n",
    "prm.filterByArea = True\n",
    "prm.minArea = 100\n",
    "#prm.maxArea = 90000\n",
    "\n",
    "#setting circularity filtering parameters\n",
    "prm.filterByCircularity = True\n",
    "prm.minCircularity = 0.6\n",
    "\n",
    "#conveXity filtering parameters\n",
    "prm.filterByConvexity=False\n",
    "prm.minConvexity=0.2\n",
    "\n",
    "\n",
    "prm.filterByInertia = True\n",
    "prm.minInertiaRatio = 0.79\n",
    "\n",
    "#detector with parameters\n",
    "detector = cv2.SimpleBlobDetector_create(prm)\n",
    "\n",
    "#blob detection\n",
    "keypoints = detector.detect(image)\n",
    "#drawing blobs on our image as green circle\n",
    "blnk = np.zeros((1,1))\n",
    "blobs = cv2.drawKeypoints(image, keypoints,blnk,(0,255,0),cv2.DRAW_MATCHES_FLAGS_DRAW_RICH_KEYPOINTS)\n",
    "\n",
    "no_of_blobs = len(keypoints)\n",
    "text = \"Total no. of circular blobs: \" +str(len(keypoints))\n",
    "cv2.putText(blobs,text,(50,300),cv2.FONT_HERSHEY_SIMPLEX,1,(0,0,0),3)\n",
    "cv2.imshow(\"filtering circular blobs\",blobs)\n",
    "cv2.waitKey(0)\n",
    "cv2.destroyAllWindows()"
   ]
  },
  {
   "cell_type": "code",
   "execution_count": null,
   "metadata": {},
   "outputs": [],
   "source": []
  },
  {
   "cell_type": "code",
   "execution_count": null,
   "metadata": {},
   "outputs": [],
   "source": [
    "\n"
   ]
  },
  {
   "cell_type": "code",
   "execution_count": null,
   "metadata": {},
   "outputs": [],
   "source": []
  }
 ],
 "metadata": {
  "kernelspec": {
   "display_name": "Python 3",
   "language": "python",
   "name": "python3"
  },
  "language_info": {
   "codemirror_mode": {
    "name": "ipython",
    "version": 3
   },
   "file_extension": ".py",
   "mimetype": "text/x-python",
   "name": "python",
   "nbconvert_exporter": "python",
   "pygments_lexer": "ipython3",
   "version": "3.8.3"
  }
 },
 "nbformat": 4,
 "nbformat_minor": 2
}
